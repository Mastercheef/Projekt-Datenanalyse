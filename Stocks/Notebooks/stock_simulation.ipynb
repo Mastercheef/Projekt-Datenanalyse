{
 "cells": [
  {
   "cell_type": "code",
   "execution_count": 1,
   "outputs": [],
   "source": [
    "from Stocks.Simulation import stock_simulation"
   ],
   "metadata": {
    "collapsed": false,
    "pycharm": {
     "name": "#%%\n"
    }
   }
  },
  {
   "cell_type": "code",
   "execution_count": 2,
   "outputs": [],
   "source": [
    "industry_sectors = ['EOAN.DE','RWE.DE','ALV.DE','MUV2.DE','DBK.DE','CBK.DE','NWT.F','AFX.DE','PFE.F','SIX2.DE','DTE.DE','SOBA.F','VODI.DE','TNE5.F','SIE.DE','IFX.DE',\n",
    "            'SAP.DE','ZAL.DE','FNTN.DE','ABEC.DE','VOW3.DE','DAI.DE','ADS.DE','PSM.DE','BOSS.DE','CCC3.DE','PRG.F','LIN.DE','HEI.DE','TKA.DE','TUI1.DE','BRH.F','BAS.DE','BAYN.DE','WMT.F']\n",
    "\n",
    "indizes   = ['^GDAXI', '^MDAXI','^SDAXI','^STOXX50E','^DJI','^GSPC','^IXIC','IMOEX.ME','^N225','^HSI']\n",
    "\n",
    "futures = ['GC=F','CL=F','SI=F','ZS=F','KC=F','ZC=F']"
   ],
   "metadata": {
    "collapsed": false,
    "pycharm": {
     "name": "#%%\n"
    }
   }
  },
  {
   "cell_type": "code",
   "execution_count": 3,
   "outputs": [
    {
     "name": "stdout",
     "output_type": "stream",
     "text": [
      "Conta 0.005\n",
      "Conta 0.008\n",
      "Conta 0.015\n",
      "Conta 0.09\n",
      "Conta 0.25\n",
      "running time: 2.51 min\n"
     ]
    }
   ],
   "source": [
    "table = stock_simulation(labels=indizes,predict=90)"
   ],
   "metadata": {
    "collapsed": false,
    "pycharm": {
     "name": "#%%\n"
    }
   }
  },
  {
   "cell_type": "code",
   "execution_count": 4,
   "outputs": [
    {
     "data": {
      "text/plain": "   Kontamination  Anomalie Ergebnis  Zufall Ergebnis\n0          0.005             89.643           58.868\n1          0.008             90.155           62.412\n2          0.015             88.295           62.321\n3          0.090             84.218           63.089\n4          0.250             81.312           63.420",
      "text/html": "<div>\n<style scoped>\n    .dataframe tbody tr th:only-of-type {\n        vertical-align: middle;\n    }\n\n    .dataframe tbody tr th {\n        vertical-align: top;\n    }\n\n    .dataframe thead th {\n        text-align: right;\n    }\n</style>\n<table border=\"1\" class=\"dataframe\">\n  <thead>\n    <tr style=\"text-align: right;\">\n      <th></th>\n      <th>Kontamination</th>\n      <th>Anomalie Ergebnis</th>\n      <th>Zufall Ergebnis</th>\n    </tr>\n  </thead>\n  <tbody>\n    <tr>\n      <th>0</th>\n      <td>0.005</td>\n      <td>89.643</td>\n      <td>58.868</td>\n    </tr>\n    <tr>\n      <th>1</th>\n      <td>0.008</td>\n      <td>90.155</td>\n      <td>62.412</td>\n    </tr>\n    <tr>\n      <th>2</th>\n      <td>0.015</td>\n      <td>88.295</td>\n      <td>62.321</td>\n    </tr>\n    <tr>\n      <th>3</th>\n      <td>0.090</td>\n      <td>84.218</td>\n      <td>63.089</td>\n    </tr>\n    <tr>\n      <th>4</th>\n      <td>0.250</td>\n      <td>81.312</td>\n      <td>63.420</td>\n    </tr>\n  </tbody>\n</table>\n</div>"
     },
     "execution_count": 4,
     "metadata": {},
     "output_type": "execute_result"
    }
   ],
   "source": [
    "table"
   ],
   "metadata": {
    "collapsed": false,
    "pycharm": {
     "name": "#%%\n"
    }
   }
  }
 ],
 "metadata": {
  "kernelspec": {
   "display_name": "Python 3",
   "language": "python",
   "name": "python3"
  },
  "language_info": {
   "codemirror_mode": {
    "name": "ipython",
    "version": 2
   },
   "file_extension": ".py",
   "mimetype": "text/x-python",
   "name": "python",
   "nbconvert_exporter": "python",
   "pygments_lexer": "ipython2",
   "version": "2.7.6"
  }
 },
 "nbformat": 4,
 "nbformat_minor": 0
}